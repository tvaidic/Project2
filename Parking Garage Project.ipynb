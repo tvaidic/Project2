{
 "cells": [
  {
   "cell_type": "markdown",
   "metadata": {},
   "source": [
    "# Parking Garage Project\n",
    "\n",
    "Your assignment for today is to create a parking garage class to get more familiar with Object Oriented Programming(OOP). \n",
    "\n",
    "Your parking gargage class should have the following methods:\n",
    "- takeTicket\n",
    "   - This should decrease the amount of tickets available by 1\n",
    "   - This should decrease the amount of parkingSpaces available by 1\n",
    "- payForParking\n",
    "   - Display an input that waits for an amount from the user and store it in a variable\n",
    "   - If the payment variable is not empty then ->  display a message to the user that their ticket has been paid and they have 15mins to leave\n",
    "   - This should update the \"currentTicket\" dictionary key \"paid\" to True\n",
    "-leaveGarage\n",
    "   - If the ticket has been paid, display a message of \"Thank You, have a nice day\"\n",
    "   - If the ticket has not been paid, display an input prompt for payment\n",
    "      - Once paid, display message \"Thank you, have a nice day!\"\n",
    "   - Update parkingSpaces list to increase by 1\n",
    "   - Update tickets list to increase by 1\n",
    "\n",
    "You will need a few attributes as well:\n",
    "- tickets -> list\n",
    "- parkingSpaces -> list\n",
    "- currentTicket -> dictionary"
   ]
  },
  {
   "cell_type": "code",
   "execution_count": 2,
   "metadata": {},
   "outputs": [
    {
     "name": "stdout",
     "output_type": "stream",
     "text": [
      "Your number is 1. Please park in spot number 1.\n",
      "Your number is 2. Please park in spot number 2.\n",
      "Your number is 3. Please park in spot number 3.\n",
      "Sorry garage is full.\n",
      "{'ticket_number': 3, 'parking_spot': 3, 'Paid': False}\n",
      "payment successful please exit within 15 min\n",
      "Thanx have a great day\n",
      "Your number is 3. Please park in spot number 3.\n",
      "Payment successful please exit within 15 min\n"
     ]
    }
   ],
   "source": [
    "# Your Code will go here\n",
    "class ParkingGarage:\n",
    "    def __init__(self,maxtix,maxspots):\n",
    "        self.maxtix = list(range(1, maxtix + 1))\n",
    "        self.parking_spot = list(range(1, maxspots + 1))\n",
    "        self.currentticket = {}\n",
    "\n",
    "    def take_ticket(self):\n",
    "        if self.maxtix:\n",
    "            ticket_num = self.maxtix.pop(0)\n",
    "            parking_space = self.parking_spot.pop(0)\n",
    "            self.currentticket = {\n",
    "                'ticket_number': ticket_num,\n",
    "                'parking_spot': parking_space,\n",
    "                'Paid': False\n",
    "            }\n",
    "            print(f\"Your number is {ticket_num}. Please park in spot number {parking_space}.\")\n",
    "        else:\n",
    "            print('Sorry garage is full.')\n",
    "        \n",
    "    def pay_for_parking(self):\n",
    "        if self.currentticket:\n",
    "            if not self.currentticket['Paid']:\n",
    "                amt_paid = input('please enter 15 to pay: ')\n",
    "                if amt_paid == str(15):\n",
    "                    self.currentticket['Paid'] = True\n",
    "                    print('payment successful please exit within 15 min')\n",
    "                else:\n",
    "                    print('Payement not recieved. If ticket is not paid you will be charged and additonal 30')\n",
    "            else:\n",
    "                print('your ticket is alredy paid')\n",
    "        else:\n",
    "            print('You do not have a ticket, please take a ticket.')\n",
    "\n",
    "    def leave_garage(self):\n",
    "        if self.currentticket:\n",
    "            if self.currentticket['Paid']:\n",
    "                ticket_num = self.currentticket['ticket_number']\n",
    "                parking_spot = self.currentticket['parking_spot']\n",
    "                self.maxtix.append(ticket_num)\n",
    "                self.parking_spot.append(parking_spot)\n",
    "                self.current_ticket = {}\n",
    "                print('Thanx have a great day')\n",
    "            else:\n",
    "                payment = input('You have not paid yet please enter 15 to pay: ')\n",
    "                if payment == str(15):\n",
    "                    self.current_ticket['Paid'] = True\n",
    "                    print('Payment successful please exit within 15 min')\n",
    "                else:\n",
    "                    print('Payment not recived. Pls pay to exit.')\n",
    "        else:\n",
    "            print('no ticket please take a ticket')\n",
    "\n"
   ]
  }
 ],
 "metadata": {
  "kernelspec": {
   "display_name": "Python 3",
   "language": "python",
   "name": "python3"
  },
  "language_info": {
   "codemirror_mode": {
    "name": "ipython",
    "version": 3
   },
   "file_extension": ".py",
   "mimetype": "text/x-python",
   "name": "python",
   "nbconvert_exporter": "python",
   "pygments_lexer": "ipython3",
   "version": "3.10.11"
  }
 },
 "nbformat": 4,
 "nbformat_minor": 2
}
